{
 "cells": [
  {
   "cell_type": "markdown",
   "id": "6a84b4f6",
   "metadata": {},
   "source": [
    "# Fetch the Dataset"
   ]
  },
  {
   "cell_type": "code",
   "execution_count": null,
   "id": "6a1998be",
   "metadata": {},
   "outputs": [],
   "source": [
    "import wandb\n",
    "import pandas as pd\n",
    "\n",
    "def parse_count(s: str) -> int:\n",
    "    s = s.strip().upper()\n",
    "    if s.endswith(\"B\"):\n",
    "        return int(float(s[:-1]) * 1_000_000_000)\n",
    "    elif s.endswith(\"M\"):\n",
    "        return int(float(s[:-1]) * 1_000_000)\n",
    "    elif s.endswith(\"K\"):\n",
    "        return int(float(s[:-1]) * 1_000)\n",
    "    return int(float(s))\n",
    "\n",
    "api, data = wandb.Api(), []\n",
    "frontier = pd.read_csv(\"https://docs.google.com/spreadsheets/d/1sIr9HRwYbUXKzlskUTMorMa2A_cAzDwE0eUJnk-W1dQ/export?format=csv&gid=1059339506\")\n",
    "\n",
    "for run in api.runs(\"haok/flame-moe\", {\"group\": {\"$regex\": \"ablation\"}}):\n",
    "    if run.state != \"finished\": continue\n",
    "    flops = run.group.split(\"-\").pop()\n",
    "    loss = run.summary[\"lm loss validation\"]\n",
    "    num_layers, hidden_size = run.config[\"num_layers\"], run.config[\"hidden_size\"]\n",
    "    selected = frontier[(frontier[\"num_layers\"] == num_layers) & (frontier[\"hidden_size\"] == hidden_size)]\n",
    "    active_params, total_params = selected.iloc[0][\"active_params\"], selected.iloc[0][\"total_params\"]\n",
    "    active_params, total_params = parse_count(active_params), parse_count(total_params)\n",
    "    data.append((flops, active_params, total_params, loss))\n",
    "\n",
    "df = pd.DataFrame(data, columns=[\"flops\", \"active_params\", \"total_params\", \"loss\"])\n",
    "print(df.head(3))\n"
   ]
  },
  {
   "cell_type": "markdown",
   "id": "1a2c4346",
   "metadata": {},
   "source": [
    "# Optimize the Coefficients"
   ]
  },
  {
   "cell_type": "code",
   "execution_count": null,
   "id": "7550c14b",
   "metadata": {},
   "outputs": [],
   "source": [
    "from math import exp\n",
    "import warnings\n",
    "warnings.filterwarnings(\"ignore\")\n",
    "\n",
    "from tqdm import tqdm\n",
    "from itertools import product\n",
    "from scipy.optimize import minimize\n",
    "import numpy as np\n",
    "\n",
    "# Step 1: Define the scaling law model\n",
    "def scaling_law(params, N, D):\n",
    "    E, A, alpha, B, beta = params\n",
    "    return E + A / (N ** alpha) + B / (D ** beta)\n",
    "\n",
    "# Step 2: Define the loss function (MSE)\n",
    "def mse_loss(params, N, D, targets):\n",
    "    preds = scaling_law(params, N, D)\n",
    "    return np.mean((preds - targets) ** 2)\n",
    "\n",
    "# Step 3: Prepare your data\n",
    "N = df[\"active_params\"].values\n",
    "D = (df[\"flops\"].astype(float) / (6 * df[\"active_params\"])).values\n",
    "targets = df[\"loss\"].values\n",
    "\n",
    "# Step 4: Set an initial guess\n",
    "E_range = [exp(0), exp(2), exp(4), exp(8), exp(16)]\n",
    "A_range = [exp(0), exp(2), exp(4), exp(8), exp(16)]\n",
    "alpha_range = [0, 0.25, 0.5, 0.75, 1, 1.25]\n",
    "B_range = [exp(0), exp(2), exp(4), exp(8), exp(16)]\n",
    "beta_range = [0, 0.25, 0.5, 0.75, 1, 1.25]\n",
    "initial_guesses = list(product(E_range, A_range, alpha_range, B_range, beta_range))\n",
    "\n",
    "# Step 5: Fit using L-BFGS-B\n",
    "best_result = None\n",
    "lowest_mse = np.inf\n",
    "\n",
    "for guess in tqdm(initial_guesses):\n",
    "    result = minimize(\n",
    "        mse_loss,\n",
    "        x0=guess,\n",
    "        args=(N, D, targets),\n",
    "        method=\"L-BFGS-B\"\n",
    "    )\n",
    "    if result.success:\n",
    "        current_mse = mse_loss(result.x, N, D, targets)\n",
    "        if current_mse < lowest_mse:\n",
    "            lowest_mse = current_mse\n",
    "            best_result = result\n",
    "\n",
    "# Step 6: Show the results\n",
    "if best_result:\n",
    "    E_opt, A_opt, alpha_opt, B_opt, beta_opt = best_result.x\n",
    "    print(f\"E     = {E_opt:.6f}\")\n",
    "    print(f\"A     = {A_opt:.6f}\")\n",
    "    print(f\"alpha = {alpha_opt:.6f}\")\n",
    "    print(f\"B     = {B_opt:.6f}\")\n",
    "    print(f\"beta  = {beta_opt:.6f}\")\n",
    "    print(f\"MSE   = {lowest_mse:.6f}\")\n",
    "else:\n",
    "    print(\"Optimization failed for all initial guesses.\")\n"
   ]
  },
  {
   "cell_type": "markdown",
   "id": "b765e362",
   "metadata": {},
   "source": [
    "# Find the Models"
   ]
  },
  {
   "cell_type": "code",
   "execution_count": null,
   "id": "0ee1dd98",
   "metadata": {},
   "outputs": [],
   "source": [
    "import pandas as pd\n",
    "\n",
    "def scaling_law(N, D):\n",
    "    E, A, alpha, B, beta = -12.498690, 0.000002, -0.653283, 54.598254, 0.020899\n",
    "    return E + A / (N ** alpha) + B / (D ** beta)\n",
    "\n",
    "flops = 1e19\n"
   ]
  }
 ],
 "metadata": {
  "kernelspec": {
   "display_name": "MoE",
   "language": "python",
   "name": "python3"
  },
  "language_info": {
   "codemirror_mode": {
    "name": "ipython",
    "version": 3
   },
   "file_extension": ".py",
   "mimetype": "text/x-python",
   "name": "python",
   "nbconvert_exporter": "python",
   "pygments_lexer": "ipython3",
   "version": "3.10.16"
  }
 },
 "nbformat": 4,
 "nbformat_minor": 5
}
