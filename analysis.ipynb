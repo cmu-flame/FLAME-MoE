{
 "cells": [
  {
   "cell_type": "markdown",
   "id": "26df7607",
   "metadata": {},
   "source": [
    "- How does expert utilization looks like as we go across the layers?\n",
    "- How does expert utilization moves as we train for more tokens?"
   ]
  },
  {
   "cell_type": "code",
   "execution_count": 7,
   "id": "b61a86e8",
   "metadata": {},
   "outputs": [
    {
     "data": {
      "application/vnd.jupyter.widget-view+json": {
       "model_id": "8517470bc573470d8dd08a51be3ad9b8",
       "version_major": 2,
       "version_minor": 0
      },
      "text/plain": [
       "Checkpoint:   0%|          | 0/6 [00:00<?, ?it/s]"
      ]
     },
     "metadata": {},
     "output_type": "display_data"
    },
    {
     "data": {
      "application/vnd.jupyter.widget-view+json": {
       "model_id": "8ba2538f32e04497880f7fdb4f3e98a8",
       "version_major": 2,
       "version_minor": 0
      },
      "text/plain": [
       "Layer:   0%|          | 0/11 [00:00<?, ?it/s]"
      ]
     },
     "metadata": {},
     "output_type": "display_data"
    },
    {
     "data": {
      "application/vnd.jupyter.widget-view+json": {
       "model_id": "f04e27168a5841ac94f744b6edcc2af2",
       "version_major": 2,
       "version_minor": 0
      },
      "text/plain": [
       "Probs:   0%|          | 0/64 [00:00<?, ?it/s]"
      ]
     },
     "metadata": {},
     "output_type": "display_data"
    },
    {
     "data": {
      "application/vnd.jupyter.widget-view+json": {
       "model_id": "62ec22568a5347789f30cb5fe54adf4d",
       "version_major": 2,
       "version_minor": 0
      },
      "text/plain": [
       "Probs:   0%|          | 0/64 [00:00<?, ?it/s]"
      ]
     },
     "metadata": {},
     "output_type": "display_data"
    },
    {
     "data": {
      "application/vnd.jupyter.widget-view+json": {
       "model_id": "b5eb0135d7834bc39677e48bab48362c",
       "version_major": 2,
       "version_minor": 0
      },
      "text/plain": [
       "Probs:   0%|          | 0/64 [00:00<?, ?it/s]"
      ]
     },
     "metadata": {},
     "output_type": "display_data"
    },
    {
     "data": {
      "application/vnd.jupyter.widget-view+json": {
       "model_id": "a68bdbf5fa9f443495dd07c3cefd0d3a",
       "version_major": 2,
       "version_minor": 0
      },
      "text/plain": [
       "Probs:   0%|          | 0/64 [00:00<?, ?it/s]"
      ]
     },
     "metadata": {},
     "output_type": "display_data"
    },
    {
     "data": {
      "application/vnd.jupyter.widget-view+json": {
       "model_id": "157a84e91433434282a6afa62467eaf1",
       "version_major": 2,
       "version_minor": 0
      },
      "text/plain": [
       "Probs:   0%|          | 0/64 [00:00<?, ?it/s]"
      ]
     },
     "metadata": {},
     "output_type": "display_data"
    },
    {
     "data": {
      "application/vnd.jupyter.widget-view+json": {
       "model_id": "fbcb984d2fc24081b08c771e1a0deda2",
       "version_major": 2,
       "version_minor": 0
      },
      "text/plain": [
       "Probs:   0%|          | 0/64 [00:00<?, ?it/s]"
      ]
     },
     "metadata": {},
     "output_type": "display_data"
    },
    {
     "data": {
      "application/vnd.jupyter.widget-view+json": {
       "model_id": "f34fc7f178b84d84bef824af1874cf7d",
       "version_major": 2,
       "version_minor": 0
      },
      "text/plain": [
       "Probs:   0%|          | 0/64 [00:00<?, ?it/s]"
      ]
     },
     "metadata": {},
     "output_type": "display_data"
    },
    {
     "data": {
      "application/vnd.jupyter.widget-view+json": {
       "model_id": "349294fba2e94036b963d46d0b0bb433",
       "version_major": 2,
       "version_minor": 0
      },
      "text/plain": [
       "Probs:   0%|          | 0/64 [00:00<?, ?it/s]"
      ]
     },
     "metadata": {},
     "output_type": "display_data"
    },
    {
     "data": {
      "application/vnd.jupyter.widget-view+json": {
       "model_id": "8a66388bb9584a8187cc2c3e9fc668c6",
       "version_major": 2,
       "version_minor": 0
      },
      "text/plain": [
       "Probs:   0%|          | 0/64 [00:00<?, ?it/s]"
      ]
     },
     "metadata": {},
     "output_type": "display_data"
    },
    {
     "data": {
      "application/vnd.jupyter.widget-view+json": {
       "model_id": "a6738d0f2fdb44f3bafbad32ba1f7708",
       "version_major": 2,
       "version_minor": 0
      },
      "text/plain": [
       "Probs:   0%|          | 0/64 [00:00<?, ?it/s]"
      ]
     },
     "metadata": {},
     "output_type": "display_data"
    },
    {
     "data": {
      "application/vnd.jupyter.widget-view+json": {
       "model_id": "0a8385aeb78e4bc9b1e104fb3a670edb",
       "version_major": 2,
       "version_minor": 0
      },
      "text/plain": [
       "Probs:   0%|          | 0/64 [00:00<?, ?it/s]"
      ]
     },
     "metadata": {},
     "output_type": "display_data"
    },
    {
     "data": {
      "application/vnd.jupyter.widget-view+json": {
       "model_id": "f1125ade51f848ff8c124357e9f6b2bb",
       "version_major": 2,
       "version_minor": 0
      },
      "text/plain": [
       "Layer:   0%|          | 0/11 [00:00<?, ?it/s]"
      ]
     },
     "metadata": {},
     "output_type": "display_data"
    },
    {
     "data": {
      "application/vnd.jupyter.widget-view+json": {
       "model_id": "ad59acc4d3f44a27b5df24bf37fbdffc",
       "version_major": 2,
       "version_minor": 0
      },
      "text/plain": [
       "Probs:   0%|          | 0/64 [00:00<?, ?it/s]"
      ]
     },
     "metadata": {},
     "output_type": "display_data"
    },
    {
     "data": {
      "application/vnd.jupyter.widget-view+json": {
       "model_id": "6801282dbab14b818933b223c194b2e0",
       "version_major": 2,
       "version_minor": 0
      },
      "text/plain": [
       "Probs:   0%|          | 0/64 [00:00<?, ?it/s]"
      ]
     },
     "metadata": {},
     "output_type": "display_data"
    },
    {
     "data": {
      "application/vnd.jupyter.widget-view+json": {
       "model_id": "fc962c30a24041ae822919544630de46",
       "version_major": 2,
       "version_minor": 0
      },
      "text/plain": [
       "Probs:   0%|          | 0/64 [00:00<?, ?it/s]"
      ]
     },
     "metadata": {},
     "output_type": "display_data"
    },
    {
     "data": {
      "application/vnd.jupyter.widget-view+json": {
       "model_id": "e44168a9b3474c08b1b5bf630397c9fa",
       "version_major": 2,
       "version_minor": 0
      },
      "text/plain": [
       "Probs:   0%|          | 0/64 [00:00<?, ?it/s]"
      ]
     },
     "metadata": {},
     "output_type": "display_data"
    },
    {
     "data": {
      "application/vnd.jupyter.widget-view+json": {
       "model_id": "ef8409ee22484b5592bfac8714a2e46a",
       "version_major": 2,
       "version_minor": 0
      },
      "text/plain": [
       "Probs:   0%|          | 0/64 [00:00<?, ?it/s]"
      ]
     },
     "metadata": {},
     "output_type": "display_data"
    },
    {
     "data": {
      "application/vnd.jupyter.widget-view+json": {
       "model_id": "bb174b8976ff4671bc89c10ba7d10a64",
       "version_major": 2,
       "version_minor": 0
      },
      "text/plain": [
       "Probs:   0%|          | 0/64 [00:00<?, ?it/s]"
      ]
     },
     "metadata": {},
     "output_type": "display_data"
    },
    {
     "data": {
      "application/vnd.jupyter.widget-view+json": {
       "model_id": "f7889df2721b48f78b749454bf5051c7",
       "version_major": 2,
       "version_minor": 0
      },
      "text/plain": [
       "Probs:   0%|          | 0/64 [00:00<?, ?it/s]"
      ]
     },
     "metadata": {},
     "output_type": "display_data"
    },
    {
     "data": {
      "application/vnd.jupyter.widget-view+json": {
       "model_id": "a758fb91c9fc43eaa33a945d13708c80",
       "version_major": 2,
       "version_minor": 0
      },
      "text/plain": [
       "Probs:   0%|          | 0/64 [00:00<?, ?it/s]"
      ]
     },
     "metadata": {},
     "output_type": "display_data"
    },
    {
     "data": {
      "application/vnd.jupyter.widget-view+json": {
       "model_id": "e1d8e5e29ba741e3a0e15210d3885f57",
       "version_major": 2,
       "version_minor": 0
      },
      "text/plain": [
       "Probs:   0%|          | 0/64 [00:00<?, ?it/s]"
      ]
     },
     "metadata": {},
     "output_type": "display_data"
    },
    {
     "data": {
      "application/vnd.jupyter.widget-view+json": {
       "model_id": "2b11b3abf4b4419da9a30cdc2de44505",
       "version_major": 2,
       "version_minor": 0
      },
      "text/plain": [
       "Probs:   0%|          | 0/64 [00:00<?, ?it/s]"
      ]
     },
     "metadata": {},
     "output_type": "display_data"
    },
    {
     "data": {
      "application/vnd.jupyter.widget-view+json": {
       "model_id": "f754b5f533844affb484fee2985bbf62",
       "version_major": 2,
       "version_minor": 0
      },
      "text/plain": [
       "Probs:   0%|          | 0/64 [00:00<?, ?it/s]"
      ]
     },
     "metadata": {},
     "output_type": "display_data"
    },
    {
     "data": {
      "application/vnd.jupyter.widget-view+json": {
       "model_id": "74cd71b6160b4fc699df7cb78300cb5a",
       "version_major": 2,
       "version_minor": 0
      },
      "text/plain": [
       "Layer:   0%|          | 0/11 [00:00<?, ?it/s]"
      ]
     },
     "metadata": {},
     "output_type": "display_data"
    },
    {
     "data": {
      "application/vnd.jupyter.widget-view+json": {
       "model_id": "42137e0d8d064b3785d1b72473a819fc",
       "version_major": 2,
       "version_minor": 0
      },
      "text/plain": [
       "Probs:   0%|          | 0/64 [00:00<?, ?it/s]"
      ]
     },
     "metadata": {},
     "output_type": "display_data"
    },
    {
     "data": {
      "application/vnd.jupyter.widget-view+json": {
       "model_id": "2e846801bc674863a73f31d29ba5e24e",
       "version_major": 2,
       "version_minor": 0
      },
      "text/plain": [
       "Probs:   0%|          | 0/64 [00:00<?, ?it/s]"
      ]
     },
     "metadata": {},
     "output_type": "display_data"
    },
    {
     "data": {
      "application/vnd.jupyter.widget-view+json": {
       "model_id": "0be7d88d7d3b43029cfd958ee3a2f43a",
       "version_major": 2,
       "version_minor": 0
      },
      "text/plain": [
       "Probs:   0%|          | 0/64 [00:00<?, ?it/s]"
      ]
     },
     "metadata": {},
     "output_type": "display_data"
    },
    {
     "data": {
      "application/vnd.jupyter.widget-view+json": {
       "model_id": "5b3501b52dca47eebeaec2ea457ac4d4",
       "version_major": 2,
       "version_minor": 0
      },
      "text/plain": [
       "Probs:   0%|          | 0/64 [00:00<?, ?it/s]"
      ]
     },
     "metadata": {},
     "output_type": "display_data"
    },
    {
     "data": {
      "application/vnd.jupyter.widget-view+json": {
       "model_id": "7be56f46da704480b0b104eb5b8e6634",
       "version_major": 2,
       "version_minor": 0
      },
      "text/plain": [
       "Probs:   0%|          | 0/64 [00:00<?, ?it/s]"
      ]
     },
     "metadata": {},
     "output_type": "display_data"
    },
    {
     "data": {
      "application/vnd.jupyter.widget-view+json": {
       "model_id": "aeb2259304014db8a1df560eaf73514b",
       "version_major": 2,
       "version_minor": 0
      },
      "text/plain": [
       "Probs:   0%|          | 0/64 [00:00<?, ?it/s]"
      ]
     },
     "metadata": {},
     "output_type": "display_data"
    },
    {
     "data": {
      "application/vnd.jupyter.widget-view+json": {
       "model_id": "55b375a461194e72aefd988c53898036",
       "version_major": 2,
       "version_minor": 0
      },
      "text/plain": [
       "Probs:   0%|          | 0/64 [00:00<?, ?it/s]"
      ]
     },
     "metadata": {},
     "output_type": "display_data"
    },
    {
     "data": {
      "application/vnd.jupyter.widget-view+json": {
       "model_id": "b4bdc880bb254f5397ed166c3833f9e5",
       "version_major": 2,
       "version_minor": 0
      },
      "text/plain": [
       "Probs:   0%|          | 0/64 [00:00<?, ?it/s]"
      ]
     },
     "metadata": {},
     "output_type": "display_data"
    },
    {
     "data": {
      "application/vnd.jupyter.widget-view+json": {
       "model_id": "9cd11eb5ed6146a38385d232e2afb4bd",
       "version_major": 2,
       "version_minor": 0
      },
      "text/plain": [
       "Probs:   0%|          | 0/64 [00:00<?, ?it/s]"
      ]
     },
     "metadata": {},
     "output_type": "display_data"
    },
    {
     "data": {
      "application/vnd.jupyter.widget-view+json": {
       "model_id": "824efc6535f9497bb1011323a0b9236b",
       "version_major": 2,
       "version_minor": 0
      },
      "text/plain": [
       "Probs:   0%|          | 0/64 [00:00<?, ?it/s]"
      ]
     },
     "metadata": {},
     "output_type": "display_data"
    },
    {
     "data": {
      "application/vnd.jupyter.widget-view+json": {
       "model_id": "70331c397155422a9b17750b3351bb76",
       "version_major": 2,
       "version_minor": 0
      },
      "text/plain": [
       "Probs:   0%|          | 0/64 [00:00<?, ?it/s]"
      ]
     },
     "metadata": {},
     "output_type": "display_data"
    },
    {
     "data": {
      "application/vnd.jupyter.widget-view+json": {
       "model_id": "d4b351d8633a4019bcb576f8c5abdd53",
       "version_major": 2,
       "version_minor": 0
      },
      "text/plain": [
       "Layer:   0%|          | 0/11 [00:00<?, ?it/s]"
      ]
     },
     "metadata": {},
     "output_type": "display_data"
    },
    {
     "data": {
      "application/vnd.jupyter.widget-view+json": {
       "model_id": "4b96cbe37b4241f88adabe8514a6ab3d",
       "version_major": 2,
       "version_minor": 0
      },
      "text/plain": [
       "Probs:   0%|          | 0/64 [00:00<?, ?it/s]"
      ]
     },
     "metadata": {},
     "output_type": "display_data"
    },
    {
     "data": {
      "application/vnd.jupyter.widget-view+json": {
       "model_id": "516ad3aa6cbf4b0b8caa6d551783d76c",
       "version_major": 2,
       "version_minor": 0
      },
      "text/plain": [
       "Probs:   0%|          | 0/64 [00:00<?, ?it/s]"
      ]
     },
     "metadata": {},
     "output_type": "display_data"
    },
    {
     "data": {
      "application/vnd.jupyter.widget-view+json": {
       "model_id": "678de32e2d42426aac5a24091f32ed8f",
       "version_major": 2,
       "version_minor": 0
      },
      "text/plain": [
       "Probs:   0%|          | 0/64 [00:00<?, ?it/s]"
      ]
     },
     "metadata": {},
     "output_type": "display_data"
    },
    {
     "data": {
      "application/vnd.jupyter.widget-view+json": {
       "model_id": "dc20e920e80644328b2129832eff52bd",
       "version_major": 2,
       "version_minor": 0
      },
      "text/plain": [
       "Probs:   0%|          | 0/64 [00:00<?, ?it/s]"
      ]
     },
     "metadata": {},
     "output_type": "display_data"
    },
    {
     "data": {
      "application/vnd.jupyter.widget-view+json": {
       "model_id": "5f493507137d47629e3e97e8dc7d9c8a",
       "version_major": 2,
       "version_minor": 0
      },
      "text/plain": [
       "Probs:   0%|          | 0/64 [00:00<?, ?it/s]"
      ]
     },
     "metadata": {},
     "output_type": "display_data"
    },
    {
     "data": {
      "application/vnd.jupyter.widget-view+json": {
       "model_id": "06ed1724680c4fd2a98285e56bbe7cf8",
       "version_major": 2,
       "version_minor": 0
      },
      "text/plain": [
       "Probs:   0%|          | 0/64 [00:00<?, ?it/s]"
      ]
     },
     "metadata": {},
     "output_type": "display_data"
    },
    {
     "data": {
      "application/vnd.jupyter.widget-view+json": {
       "model_id": "0563c90b720046668f1be7787ea165b0",
       "version_major": 2,
       "version_minor": 0
      },
      "text/plain": [
       "Probs:   0%|          | 0/64 [00:00<?, ?it/s]"
      ]
     },
     "metadata": {},
     "output_type": "display_data"
    },
    {
     "data": {
      "application/vnd.jupyter.widget-view+json": {
       "model_id": "1c9dffe0bd704efeb495b05f2ed3755a",
       "version_major": 2,
       "version_minor": 0
      },
      "text/plain": [
       "Probs:   0%|          | 0/64 [00:00<?, ?it/s]"
      ]
     },
     "metadata": {},
     "output_type": "display_data"
    },
    {
     "data": {
      "application/vnd.jupyter.widget-view+json": {
       "model_id": "2804554fcf754409820116fa7a75ce33",
       "version_major": 2,
       "version_minor": 0
      },
      "text/plain": [
       "Probs:   0%|          | 0/64 [00:00<?, ?it/s]"
      ]
     },
     "metadata": {},
     "output_type": "display_data"
    },
    {
     "data": {
      "application/vnd.jupyter.widget-view+json": {
       "model_id": "a21aeca685be46e983e330c7e3078994",
       "version_major": 2,
       "version_minor": 0
      },
      "text/plain": [
       "Probs:   0%|          | 0/64 [00:00<?, ?it/s]"
      ]
     },
     "metadata": {},
     "output_type": "display_data"
    },
    {
     "data": {
      "application/vnd.jupyter.widget-view+json": {
       "model_id": "694d70bd631340a5a68acde19a351b2d",
       "version_major": 2,
       "version_minor": 0
      },
      "text/plain": [
       "Probs:   0%|          | 0/64 [00:00<?, ?it/s]"
      ]
     },
     "metadata": {},
     "output_type": "display_data"
    },
    {
     "data": {
      "application/vnd.jupyter.widget-view+json": {
       "model_id": "404a9432ac9d4030a5abc52722153727",
       "version_major": 2,
       "version_minor": 0
      },
      "text/plain": [
       "Layer:   0%|          | 0/11 [00:00<?, ?it/s]"
      ]
     },
     "metadata": {},
     "output_type": "display_data"
    },
    {
     "data": {
      "application/vnd.jupyter.widget-view+json": {
       "model_id": "7e071933f54a40488f66ef551b096273",
       "version_major": 2,
       "version_minor": 0
      },
      "text/plain": [
       "Probs:   0%|          | 0/64 [00:00<?, ?it/s]"
      ]
     },
     "metadata": {},
     "output_type": "display_data"
    },
    {
     "data": {
      "application/vnd.jupyter.widget-view+json": {
       "model_id": "b63ee8382ca14bf1986b64890ba62a1b",
       "version_major": 2,
       "version_minor": 0
      },
      "text/plain": [
       "Probs:   0%|          | 0/64 [00:00<?, ?it/s]"
      ]
     },
     "metadata": {},
     "output_type": "display_data"
    },
    {
     "data": {
      "application/vnd.jupyter.widget-view+json": {
       "model_id": "500bea4f5a8d4a3b865e59dfd956597b",
       "version_major": 2,
       "version_minor": 0
      },
      "text/plain": [
       "Probs:   0%|          | 0/64 [00:00<?, ?it/s]"
      ]
     },
     "metadata": {},
     "output_type": "display_data"
    },
    {
     "data": {
      "application/vnd.jupyter.widget-view+json": {
       "model_id": "46569a2a909540c083015cff044de7b7",
       "version_major": 2,
       "version_minor": 0
      },
      "text/plain": [
       "Probs:   0%|          | 0/64 [00:00<?, ?it/s]"
      ]
     },
     "metadata": {},
     "output_type": "display_data"
    },
    {
     "data": {
      "application/vnd.jupyter.widget-view+json": {
       "model_id": "928ea572e43043a886f003269268812c",
       "version_major": 2,
       "version_minor": 0
      },
      "text/plain": [
       "Probs:   0%|          | 0/64 [00:00<?, ?it/s]"
      ]
     },
     "metadata": {},
     "output_type": "display_data"
    },
    {
     "data": {
      "application/vnd.jupyter.widget-view+json": {
       "model_id": "8d51f8d7864f4fe2b0c8ff118432c070",
       "version_major": 2,
       "version_minor": 0
      },
      "text/plain": [
       "Probs:   0%|          | 0/64 [00:00<?, ?it/s]"
      ]
     },
     "metadata": {},
     "output_type": "display_data"
    },
    {
     "data": {
      "application/vnd.jupyter.widget-view+json": {
       "model_id": "995dc36647fb4b6ca3bd374ae3cf3cfa",
       "version_major": 2,
       "version_minor": 0
      },
      "text/plain": [
       "Probs:   0%|          | 0/64 [00:00<?, ?it/s]"
      ]
     },
     "metadata": {},
     "output_type": "display_data"
    },
    {
     "data": {
      "application/vnd.jupyter.widget-view+json": {
       "model_id": "cdaaf62a4bd440c69d536b91b1487856",
       "version_major": 2,
       "version_minor": 0
      },
      "text/plain": [
       "Probs:   0%|          | 0/64 [00:00<?, ?it/s]"
      ]
     },
     "metadata": {},
     "output_type": "display_data"
    },
    {
     "data": {
      "application/vnd.jupyter.widget-view+json": {
       "model_id": "53c3919a4646467c96fc2243212560d5",
       "version_major": 2,
       "version_minor": 0
      },
      "text/plain": [
       "Probs:   0%|          | 0/64 [00:00<?, ?it/s]"
      ]
     },
     "metadata": {},
     "output_type": "display_data"
    },
    {
     "data": {
      "application/vnd.jupyter.widget-view+json": {
       "model_id": "a35ed8d9f262467cb51d1e766a398ca5",
       "version_major": 2,
       "version_minor": 0
      },
      "text/plain": [
       "Probs:   0%|          | 0/64 [00:00<?, ?it/s]"
      ]
     },
     "metadata": {},
     "output_type": "display_data"
    },
    {
     "data": {
      "application/vnd.jupyter.widget-view+json": {
       "model_id": "c57025be8b5541e594d52059d2a28b37",
       "version_major": 2,
       "version_minor": 0
      },
      "text/plain": [
       "Probs:   0%|          | 0/64 [00:00<?, ?it/s]"
      ]
     },
     "metadata": {},
     "output_type": "display_data"
    },
    {
     "data": {
      "application/vnd.jupyter.widget-view+json": {
       "model_id": "38b644c575f34609ac320f247c19c43b",
       "version_major": 2,
       "version_minor": 0
      },
      "text/plain": [
       "Layer:   0%|          | 0/11 [00:00<?, ?it/s]"
      ]
     },
     "metadata": {},
     "output_type": "display_data"
    },
    {
     "data": {
      "application/vnd.jupyter.widget-view+json": {
       "model_id": "e7729efa5c974a8a85648d28f4175b7d",
       "version_major": 2,
       "version_minor": 0
      },
      "text/plain": [
       "Probs:   0%|          | 0/64 [00:00<?, ?it/s]"
      ]
     },
     "metadata": {},
     "output_type": "display_data"
    },
    {
     "data": {
      "application/vnd.jupyter.widget-view+json": {
       "model_id": "5a9c44fcf6cb4df3b9cbfe23665f4381",
       "version_major": 2,
       "version_minor": 0
      },
      "text/plain": [
       "Probs:   0%|          | 0/64 [00:00<?, ?it/s]"
      ]
     },
     "metadata": {},
     "output_type": "display_data"
    },
    {
     "data": {
      "application/vnd.jupyter.widget-view+json": {
       "model_id": "b2d9f01c1e0b43fea2d63842b949dc3e",
       "version_major": 2,
       "version_minor": 0
      },
      "text/plain": [
       "Probs:   0%|          | 0/64 [00:00<?, ?it/s]"
      ]
     },
     "metadata": {},
     "output_type": "display_data"
    },
    {
     "data": {
      "application/vnd.jupyter.widget-view+json": {
       "model_id": "afe378ed3c9a4979968999495f221d77",
       "version_major": 2,
       "version_minor": 0
      },
      "text/plain": [
       "Probs:   0%|          | 0/64 [00:00<?, ?it/s]"
      ]
     },
     "metadata": {},
     "output_type": "display_data"
    },
    {
     "data": {
      "application/vnd.jupyter.widget-view+json": {
       "model_id": "43a1c1525aa048aeb349f122ac32840e",
       "version_major": 2,
       "version_minor": 0
      },
      "text/plain": [
       "Probs:   0%|          | 0/64 [00:00<?, ?it/s]"
      ]
     },
     "metadata": {},
     "output_type": "display_data"
    },
    {
     "data": {
      "application/vnd.jupyter.widget-view+json": {
       "model_id": "dc37a1e25ce54b1e97a5e0e1d9029fed",
       "version_major": 2,
       "version_minor": 0
      },
      "text/plain": [
       "Probs:   0%|          | 0/64 [00:00<?, ?it/s]"
      ]
     },
     "metadata": {},
     "output_type": "display_data"
    },
    {
     "data": {
      "application/vnd.jupyter.widget-view+json": {
       "model_id": "350cad8724c2415f966773c09b20eead",
       "version_major": 2,
       "version_minor": 0
      },
      "text/plain": [
       "Probs:   0%|          | 0/64 [00:00<?, ?it/s]"
      ]
     },
     "metadata": {},
     "output_type": "display_data"
    },
    {
     "data": {
      "application/vnd.jupyter.widget-view+json": {
       "model_id": "63bf24f434564ea68d9684fe218ae4a7",
       "version_major": 2,
       "version_minor": 0
      },
      "text/plain": [
       "Probs:   0%|          | 0/64 [00:00<?, ?it/s]"
      ]
     },
     "metadata": {},
     "output_type": "display_data"
    },
    {
     "data": {
      "application/vnd.jupyter.widget-view+json": {
       "model_id": "ea6b89e36d3b4752b08fff6dfc739dda",
       "version_major": 2,
       "version_minor": 0
      },
      "text/plain": [
       "Probs:   0%|          | 0/64 [00:00<?, ?it/s]"
      ]
     },
     "metadata": {},
     "output_type": "display_data"
    },
    {
     "data": {
      "application/vnd.jupyter.widget-view+json": {
       "model_id": "dc8d3b8bc13d4961902314d18ceef790",
       "version_major": 2,
       "version_minor": 0
      },
      "text/plain": [
       "Probs:   0%|          | 0/64 [00:00<?, ?it/s]"
      ]
     },
     "metadata": {},
     "output_type": "display_data"
    },
    {
     "data": {
      "application/vnd.jupyter.widget-view+json": {
       "model_id": "30b4959a0d1640989cac4af64ff110ea",
       "version_major": 2,
       "version_minor": 0
      },
      "text/plain": [
       "Probs:   0%|          | 0/64 [00:00<?, ?it/s]"
      ]
     },
     "metadata": {},
     "output_type": "display_data"
    }
   ],
   "source": [
    "import torch\n",
    "import numpy as np\n",
    "from math import ceil\n",
    "import matplotlib.pyplot as plt\n",
    "from tqdm.auto import tqdm\n",
    "from pathlib import Path\n",
    "from collections import defaultdict\n",
    "from typing import DefaultDict\n",
    "\n",
    "# Roughly 1M tokens from the test subset got selected.\n",
    "# { checkpoint step -> { layer number -> { expert id -> active counts } }\n",
    "record: DefaultDict[int, DefaultDict[int, DefaultDict[int, int]]] = defaultdict(lambda: defaultdict(lambda: defaultdict(int)))\n",
    "model_dump = Path(\"/tmp/slurm-31207/actives\")\n",
    "\n",
    "for ckpt_dump in tqdm(sorted(model_dump.iterdir()), desc=\"Checkpoint\"):\n",
    "    ckpt_step = int(ckpt_dump.name)\n",
    "    \n",
    "    # Gathering\n",
    "    for layer_dump in tqdm(sorted(ckpt_dump.iterdir()), desc=\"Layer\", leave=False):\n",
    "        layer_number = int(layer_dump.name)\n",
    "        for probs_dump in tqdm(sorted(layer_dump.iterdir())[:64], desc=\"Probs\", leave=False):\n",
    "            probs = torch.load(probs_dump, map_location=\"cpu\")\n",
    "            for _, expert_id in probs.nonzero():\n",
    "                record[ckpt_step][layer_number][expert_id.item()] += 1\n",
    "\n",
    "    # Plotting\n",
    "    nrows, ncols = ceil(len(record[ckpt_step]) / 4), 4\n",
    "    fig, axs = plt.subplots(nrows, ncols, figsize=(16, 16))\n",
    "    axs = axs.flatten()\n",
    "\n",
    "    for i, layer_number in enumerate(sorted(record[ckpt_step].keys())):\n",
    "        heatmap_data = np.zeros((8, 8), dtype=int)\n",
    "        for expert_id, active_counts in record[ckpt_step][layer_number].items():\n",
    "            row, col = expert_id // 8, expert_id % 8\n",
    "            heatmap_data[row, col] = active_counts\n",
    "\n",
    "        ax = axs[i]\n",
    "        im = ax.imshow(heatmap_data, cmap=\"viridis\")\n",
    "        ax.set_title(f\"Layer {layer_number}\")\n",
    "        ax.set_xticks([])\n",
    "        ax.set_yticks([])\n",
    "\n",
    "        for (y, x), val in np.ndenumerate(heatmap_data):\n",
    "            ax.text(x, y, f\"{val}\", ha='center', va='center', fontsize=6, color=\"white\")\n",
    "\n",
    "    for j in range(len(record.keys()), len(axs)):\n",
    "        axs[j].axis('off')\n",
    "\n",
    "    fig.suptitle(f\"Expert Utilization Heatmaps Across Layers (Step {ckpt_step})\", fontsize=20)\n",
    "    plt.tight_layout()\n",
    "\n",
    "    dmp = Path(\"figures/expert-utilization-across-layers/flame-moe-721m\")\n",
    "    dmp.mkdir(mode=500, parents=True, exist_ok=True)\n",
    "    plt.savefig(Path(dmp, f\"{ckpt_step}.png\"), dpi=300)\n",
    "    plt.close()\n"
   ]
  }
 ],
 "metadata": {
  "kernelspec": {
   "display_name": "MoE",
   "language": "python",
   "name": "python3"
  },
  "language_info": {
   "codemirror_mode": {
    "name": "ipython",
    "version": 3
   },
   "file_extension": ".py",
   "mimetype": "text/x-python",
   "name": "python",
   "nbconvert_exporter": "python",
   "pygments_lexer": "ipython3",
   "version": "3.10.16"
  }
 },
 "nbformat": 4,
 "nbformat_minor": 5
}
